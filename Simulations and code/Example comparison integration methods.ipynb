{
 "cells": [
  {
   "cell_type": "code",
   "execution_count": 1,
   "metadata": {},
   "outputs": [],
   "source": [
    "from IPython import get_ipython\n",
    "get_ipython().run_line_magic(\"reset\",\"-f\")\n",
    "\n",
    "from PyPackageJonas import *\n",
    "\n",
    "graphics_path = \"C:/Users/jonas/Git/Analysis-of-Production-flow-systems-with-focus-on-industry/Latex Thesis/figures/ND examples/Network Gaussian 10\""
   ]
  },
  {
   "cell_type": "code",
   "execution_count": 3,
   "metadata": {},
   "outputs": [],
   "source": [
    "N = 2\n",
    "corr = np.array([\n",
    "    [1,0.99],\n",
    "    [0.99,1]]\n",
    ")"
   ]
  },
  {
   "cell_type": "code",
   "execution_count": 13,
   "metadata": {},
   "outputs": [],
   "source": [
    "Y = np.random.multivariate_normal(np.zeros(2), corr, 10_000).T"
   ]
  },
  {
   "cell_type": "code",
   "execution_count": 14,
   "metadata": {},
   "outputs": [
    {
     "name": "stderr",
     "output_type": "stream",
     "text": [
      "100%|██████████| 2/2 [00:00<00:00, 2005.88it/s]\n",
      "100%|██████████| 2/2 [00:11<00:00,  5.85s/it]\n",
      "100%|██████████| 2/2 [00:00<00:00, 1985.94it/s]\n",
      "100%|██████████| 2/2 [00:00<?, ?it/s]\n"
     ]
    }
   ],
   "source": [
    "# Prepare Kernels, transformed data to uniform (from kernel), Scott's optimal bandwiths\n",
    "kernels_Y = [gaussian_kde(Y[i,:]) for i in tqdm(range(N))]\n",
    "\n",
    "U = np.vstack( [np.array([kernels_Y[i].integrate_box_1d(-np.inf, x_i) for x_i in Y[i,:]]) for i in tqdm(range(N)) ])\n",
    "kernels_U = [gaussian_kde(U[i,:]) for i in tqdm(range(N))]\n",
    "\n",
    "h = np.array([(kernels_Y[i].covariance**0.5)[0,0] for i in tqdm(range(N))])"
   ]
  },
  {
   "cell_type": "code",
   "execution_count": 15,
   "metadata": {},
   "outputs": [],
   "source": [
    "i,j = 0,1\n",
    "u_i, u_j = U[i,:], U[j,:]\n",
    "kernel_ij = gaussian_kde(np.vstack([u_i,u_j]))"
   ]
  },
  {
   "cell_type": "markdown",
   "metadata": {},
   "source": [
    "# Method 1 - grid approximation"
   ]
  },
  {
   "cell_type": "code",
   "execution_count": 26,
   "metadata": {},
   "outputs": [],
   "source": [
    "n_mesh = 200\n",
    "uu1, uu2 = np.meshgrid(\n",
    "    np.linspace(1/(2*n_mesh),1 - 1/(2*n_mesh),n_mesh),\n",
    "    np.linspace(1/(2*n_mesh),1 - 1/(2*n_mesh),n_mesh)\n",
    ")"
   ]
  },
  {
   "cell_type": "code",
   "execution_count": 27,
   "metadata": {},
   "outputs": [],
   "source": [
    "pdfij = kernel_ij.evaluate(np.vstack([uu1.ravel(), uu2.ravel()]))\n",
    "pdfij_log = kernel_ij.logpdf(np.vstack([uu1.ravel(), uu2.ravel()]))"
   ]
  },
  {
   "cell_type": "code",
   "execution_count": 28,
   "metadata": {},
   "outputs": [
    {
     "data": {
      "text/plain": [
       "1.8016435115350589"
      ]
     },
     "execution_count": 28,
     "metadata": {},
     "output_type": "execute_result"
    }
   ],
   "source": [
    "vol = 1/n_mesh**2 * pdfij.sum()\n",
    "MI_1 = 1/n_mesh**2 * (pdfij * pdfij_log).sum() / vol - np.log(vol)\n",
    "\n",
    "MI_1\n",
    "\n",
    "# 10:  1.9294946321720645\n",
    "# 100: 1.8016063783498006\n",
    "# 200: 1.8016435115350589"
   ]
  },
  {
   "cell_type": "markdown",
   "metadata": {},
   "source": [
    "# Method 2 - using scipy integrate"
   ]
  },
  {
   "cell_type": "code",
   "execution_count": 21,
   "metadata": {},
   "outputs": [],
   "source": [
    "print(\"vol\")\n",
    "d_vol = kernel_ij.integrate_box(\n",
    "        low_bounds = [0,0],\n",
    "        high_bounds = [1,1]\n",
    "    )\n",
    "\n",
    "print(\"dblquad\")\n",
    "MI_2 = dblquad(\n",
    "    lambda x,y : \n",
    "        kernel_ij.pdf(np.vstack([x,y])) * \\\n",
    "        kernel_ij.logpdf(np.vstack([x,y])),\n",
    "    0,1,\n",
    "    0,1\n",
    ")[0] / d_vol - np.log(d_vol)"
   ]
  },
  {
   "cell_type": "code",
   "execution_count": 22,
   "metadata": {},
   "outputs": [
    {
     "data": {
      "text/plain": [
       "1.8016577647107468"
      ]
     },
     "execution_count": 22,
     "metadata": {},
     "output_type": "execute_result"
    }
   ],
   "source": [
    "MI_2"
   ]
  },
  {
   "cell_type": "code",
   "execution_count": 14,
   "metadata": {},
   "outputs": [
    {
     "data": {
      "text/plain": [
       "array([[ 2.5,  5. ,  7.5],\n",
       "       [ 7.5, 10. , 12.5]])"
      ]
     },
     "execution_count": 14,
     "metadata": {},
     "output_type": "execute_result"
    }
   ],
   "source": [
    "import numpy as np\n",
    "import scipy\n",
    "(np.array([[1,2,3],[3,4,5]]) * np.linspace(0,1,5)[:,None,None]).sum(axis=0)"
   ]
  },
  {
   "cell_type": "code",
   "execution_count": 21,
   "metadata": {},
   "outputs": [
    {
     "data": {
      "text/plain": [
       "array([-4.26489079,  4.26489079])"
      ]
     },
     "execution_count": 21,
     "metadata": {},
     "output_type": "execute_result"
    }
   ],
   "source": [
    "scipy.stats.norm().ppf(np.array([0.00001,0.99999]))"
   ]
  },
  {
   "cell_type": "code",
   "execution_count": 3,
   "metadata": {},
   "outputs": [],
   "source": [
    "import numpy as np"
   ]
  },
  {
   "cell_type": "code",
   "execution_count": 4,
   "metadata": {},
   "outputs": [
    {
     "data": {
      "text/plain": [
       "array([[  1, 100],\n",
       "       [  0,   1]])"
      ]
     },
     "execution_count": 4,
     "metadata": {},
     "output_type": "execute_result"
    }
   ],
   "source": [
    "M = 100\n",
    "temp = np.array([[1,M],[0,1]])\n",
    "temp"
   ]
  },
  {
   "cell_type": "code",
   "execution_count": 8,
   "metadata": {},
   "outputs": [
    {
     "data": {
      "text/plain": [
       "EigResult(eigenvalues=array([9.99800050e-05, 1.00019999e+04]), eigenvectors=array([[-0.99995001, -0.0099985 ],\n",
       "       [ 0.0099985 , -0.99995001]]))"
      ]
     },
     "execution_count": 8,
     "metadata": {},
     "output_type": "execute_result"
    }
   ],
   "source": [
    "np.linalg.eig(temp.T @ temp)"
   ]
  },
  {
   "cell_type": "code",
   "execution_count": 6,
   "metadata": {},
   "outputs": [
    {
     "data": {
      "text/plain": [
       "array([100,   1])"
      ]
     },
     "execution_count": 6,
     "metadata": {},
     "output_type": "execute_result"
    }
   ],
   "source": [
    "temp @ np.array([0,1])"
   ]
  }
 ],
 "metadata": {
  "kernelspec": {
   "display_name": "MasterThesis",
   "language": "python",
   "name": "python3"
  },
  "language_info": {
   "codemirror_mode": {
    "name": "ipython",
    "version": 3
   },
   "file_extension": ".py",
   "mimetype": "text/x-python",
   "name": "python",
   "nbconvert_exporter": "python",
   "pygments_lexer": "ipython3",
   "version": "3.12.2"
  }
 },
 "nbformat": 4,
 "nbformat_minor": 2
}
