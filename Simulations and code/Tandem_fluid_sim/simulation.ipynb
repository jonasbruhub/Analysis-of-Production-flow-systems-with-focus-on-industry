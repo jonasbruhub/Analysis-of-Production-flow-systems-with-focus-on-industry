{
 "cells": [
  {
   "cell_type": "code",
   "execution_count": 8,
   "id": "1bcf1bd6",
   "metadata": {},
   "outputs": [
    {
     "name": "stdout",
     "output_type": "stream",
     "text": [
      "Butools V2.0\n",
      "Packages loaded: utils, mc, moments, reptrans, trace, ph, dph, map, dmap, fitting, mam, queues\n",
      "Global variables: \n",
      "butools.verbose = False , butools.checkInput = True , butools.checkPrecision = 1e-12\n"
     ]
    }
   ],
   "source": [
    "%precision %g\n",
    "%run \"~/Documents/Master_thesis/butools/Python/BuToolsInit.py\""
   ]
  },
  {
   "cell_type": "code",
   "execution_count": 9,
   "id": "5de63fe1",
   "metadata": {},
   "outputs": [],
   "source": [
    "Qpp = ml.matrix([[-5., 1.],[2., -3.]])\n",
    "Qpm = ml.matrix([[2., 1., 1.],[1., 0., 0.]])\n",
    "Qmm = ml.matrix([[-8., 4., 1.],[2., -12., 3.],[2., 0., -2.]])\n",
    "Qmp = ml.matrix([[3., 0.],[2., 5.],[0., 0.]])"
   ]
  },
  {
   "cell_type": "code",
   "execution_count": 12,
   "id": "3de58ee4",
   "metadata": {},
   "outputs": [
    {
     "name": "stdout",
     "output_type": "stream",
     "text": [
      "mass at 0= [[0.         0.         0.03751363 0.01530344 0.09792059]]\n",
      "beta= [[0.14314775 0.07651718]]\n",
      "K= [[-3.6579964   1.82582941]\n",
      " [ 3.25529376 -2.35023773]]\n",
      "B= [[1.         0.         0.33722394 0.16516588 0.49761017]\n",
      " [0.         1.         0.33179629 0.12995245 0.53825126]]\n"
     ]
    }
   ],
   "source": [
    "mass0, beta, K, B = FluidSolve(Qpp, Qpm, Qmp, Qmm)\n",
    "print(\"mass at 0=\", mass0)\n",
    "print(\"beta=\", beta)\n",
    "print(\"K=\", K)\n",
    "print(\"B=\", B)"
   ]
  },
  {
   "cell_type": "code",
   "execution_count": null,
   "id": "31a579a1",
   "metadata": {},
   "outputs": [],
   "source": []
  },
  {
   "cell_type": "code",
   "execution_count": null,
   "id": "0bedb07b",
   "metadata": {},
   "outputs": [],
   "source": []
  },
  {
   "cell_type": "code",
   "execution_count": null,
   "id": "68bea191",
   "metadata": {},
   "outputs": [],
   "source": []
  },
  {
   "cell_type": "code",
   "execution_count": null,
   "id": "8a2dc6a7",
   "metadata": {},
   "outputs": [],
   "source": []
  },
  {
   "cell_type": "code",
   "execution_count": null,
   "id": "c4da9d6a",
   "metadata": {},
   "outputs": [],
   "source": []
  },
  {
   "cell_type": "code",
   "execution_count": null,
   "id": "bc6be2e9",
   "metadata": {},
   "outputs": [],
   "source": []
  },
  {
   "cell_type": "code",
   "execution_count": 43,
   "id": "37bf48c8",
   "metadata": {},
   "outputs": [],
   "source": [
    "import numpy as np\n",
    "\n",
    "# General Multi - Class Queueing Network:\n",
    "# buffers numbered k = 1, ..., K.\n",
    "# Each buffer is served by one of the I machines,\n",
    "# buffer k served by machine i(k).\n",
    "\n",
    "# we generate random constituencies of the machines.\n",
    "# average service time m(k) = ~U(0, 3).\n",
    "# M(i, k) = m(k) if i(k) = i, 0 else.\n",
    "\n",
    "# fluid from buffer k goes to buffer l in proportion\n",
    "# p(k, l), where the these are random, and sum to < 1,\n",
    "# 1 - sum_l p(k, l) leaves the system.\n",
    "#\n",
    "# initial buffer levels are a(k) = ~U(0, 40), k = 1, ..., K\n",
    "# random small input rate alpha(k) = ~U(0, 0.01)\n",
    "\n",
    "# random holding costs cost(k) = ~U(0, 2).\n",
    "# resource limits: b(i) = 1, with sum_k M(i, k) * u(k) <= b(i).\n",
    "\n",
    "def generate_MCQN_data(seed, \n",
    "                       K, \n",
    "                       I, \n",
    "                       nz=0.4, \n",
    "                       sum_rate=0.8, \n",
    "                       gdist=np.random.rand, \n",
    "                       gdist_params=(), \n",
    "                       h_rate=0.6, \n",
    "                       hdist=np.random.rand,\n",
    "                       hdist_params=(), \n",
    "                       alpha_rate=40, \n",
    "                       alpha_dist=np.random.rand, \n",
    "                       alpha_dist_params=(), \n",
    "                       a_rate=0.01, \n",
    "                       a_dist=np.random.rand, \n",
    "                       a_dist_params=(), \n",
    "                       cost_scale=2, \n",
    "                       cost_dist=np.random.rand,  \n",
    "                       cost_dist_params=(),\n",
    "                       gamma_rate=0, \n",
    "                       gamma_dist=np.random.rand, \n",
    "                       gamma_dist_params=(), \n",
    "                       c_scale=0, \n",
    "                       c_dist=np.random.rand,  \n",
    "                       c_dist_params=()):\n",
    "\n",
    "    np.random.seed(seed)\n",
    "    b = np.ones(I)\n",
    "\n",
    "    # transition probabilities\n",
    "    # ~nz of them are > 0,\n",
    "    # they sum up to ~sum_rate so ~1-sum_rate flows out.\n",
    "\n",
    "    if gdist is np.random.rand:\n",
    "        P = gdist(K,K)\n",
    "    else:\n",
    "        P = gdist(*gdist_params, (K,K))\n",
    "    P-= (1- nz) * np.ones((K,K)) + np.eye(K)\n",
    "    P[P < 0] = 0\n",
    "    P[0, K-1] += 0.1\n",
    "    coeff = (1/sum_rate - 1) * 2\n",
    "    P+= np.diag(np.full(K-1,0.1),-1)\n",
    "    P /= np.outer(np.ones(K)+ coeff * np.random.rand(K), sum(P))\n",
    "    G = np.eye(K) - P\n",
    "\n",
    "    # construct random machine constituency matrix\n",
    "    cols = np.arange(K)\n",
    "    np.random.shuffle(cols)\n",
    "    H = np.zeros((I, K))\n",
    "    rows = np.concatenate((np.arange(I),np.random.choice(I,K-I,True)))\n",
    "    H[rows,cols] = h_rate * hdist(*hdist_params, K)\n",
    "\n",
    "    # initial fluid\n",
    "    alpha = alpha_rate * alpha_dist(*alpha_dist_params, K)\n",
    "\n",
    "    # exogenous input rate\n",
    "    a = a_rate * a_dist(*a_dist_params, K)\n",
    "\n",
    "    F = np.empty((K,0))\n",
    "    d = np.empty(0)\n",
    "\n",
    "    if gamma_rate==0:\n",
    "        gamma = np.zeros(K)\n",
    "    else:\n",
    "        gamma = gamma_rate * gamma_dist(*gamma_dist_params, K)\n",
    "    if c_scale != 0:\n",
    "        c = c_scale * c_dist(*c_dist_params, K) * np.random.choice([-1,1],K,True)\n",
    "    else:\n",
    "        c = np.zeros(K)\n",
    "    cost = None\n",
    "    if cost_scale != 0:\n",
    "        cost = cost_scale * cost_dist(*cost_dist_params, K)\n",
    "        #this produce negative and positive costs!\n",
    "        c += np.matmul(cost,  G)\n",
    "        total_buffer_cost = (np.inner(cost,  alpha),np.inner(cost,  a))\n",
    "    else:\n",
    "        total_buffer_cost = (0,0)\n",
    "    return G,H,F,gamma,c,d,alpha,a,b,None,total_buffer_cost,cost"
   ]
  },
  {
   "cell_type": "code",
   "execution_count": 44,
   "id": "702bf610",
   "metadata": {},
   "outputs": [],
   "source": [
    "I = 3\n",
    "K = 3\n",
    "settings = {'alpha_rate':  1, 'cost_scale':2, 'a_rate' : 0.05, 'sum_rate':0.95, 'nz': 0.5,\n",
    "                    'gamma_rate':0, 'c_scale': 0, 'h_rate': 0.2}\n",
    "seed = 1000\n",
    "G, H, F, gamma, c, d, alpha, a, b, TT, total_buffer_cost, buffer_cost = generate_MCQN_data(seed, K, I, **settings)\n",
    "TT = 100\n",
    "\n",
    "# calculating total buffer cost for the target T:\n",
    "#   tot_buf_cost = h' \\alpha T + h' a T^2/2\n",
    "tot_buf_cost = total_buffer_cost[0]*TT+total_buffer_cost[1]*TT*TT/2.0"
   ]
  },
  {
   "cell_type": "code",
   "execution_count": 47,
   "id": "a19fcc74",
   "metadata": {},
   "outputs": [
    {
     "data": {
      "text/plain": [
       "array([[ 1.        ,  0.        , -0.91860744],\n",
       "       [-0.97866688,  1.        ,  0.        ],\n",
       "       [ 0.        , -0.92751069,  1.        ]])"
      ]
     },
     "execution_count": 47,
     "metadata": {},
     "output_type": "execute_result"
    }
   ],
   "source": [
    "G"
   ]
  },
  {
   "cell_type": "code",
   "execution_count": null,
   "id": "46f40f06",
   "metadata": {},
   "outputs": [],
   "source": []
  }
 ],
 "metadata": {
  "kernelspec": {
   "display_name": "Python 3 (ipykernel)",
   "language": "python",
   "name": "python3"
  },
  "language_info": {
   "codemirror_mode": {
    "name": "ipython",
    "version": 3
   },
   "file_extension": ".py",
   "mimetype": "text/x-python",
   "name": "python",
   "nbconvert_exporter": "python",
   "pygments_lexer": "ipython3",
   "version": "3.11.2"
  }
 },
 "nbformat": 4,
 "nbformat_minor": 5
}
