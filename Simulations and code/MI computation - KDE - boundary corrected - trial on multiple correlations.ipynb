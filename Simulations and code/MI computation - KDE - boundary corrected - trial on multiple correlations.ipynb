{
 "cells": [
  {
   "cell_type": "code",
   "execution_count": 1,
   "metadata": {},
   "outputs": [],
   "source": [
    "from IPython import get_ipython\n",
    "get_ipython().run_line_magic(\"reset\",\"-f\")\n",
    "\n",
    "from PyPackageJonas import *\n",
    "\n",
    "figures_path = \"C:/Users/jonas/Git/Analysis-of-Production-flow-systems-with-focus-on-industry/Latex Thesis/figures/\"\n"
   ]
  },
  {
   "cell_type": "code",
   "execution_count": 8,
   "metadata": {},
   "outputs": [],
   "source": [
    "marker_list = [\"x\", \"v\", \"o\", \"P\", \"D\", \"s\",\"|\"]"
   ]
  },
  {
   "cell_type": "code",
   "execution_count": 9,
   "metadata": {},
   "outputs": [],
   "source": [
    "# def z_from_x(x, M, k):\n",
    "#     x_min = x.min()\n",
    "#     x_max = x.max()\n",
    "#     z = (x - x_min) * (M - k + 1)/(x_max - x_min)\n",
    "#     return lambda l : (l - x_min) * (M - k)/(x_max - x_min)\n",
    "\n",
    "# def knots(k,M):\n",
    "#     t = [ (i<k) * 0 + (i-k+1)*(i >= k)*(i<=M-1) + (M-1-k+2)*(i>M-1) for i in range(M+1+k)]\n",
    "#     return np.array(t)\n",
    "\n",
    "# def Bx(x,k,i,t):\n",
    "#     if k == 0:\n",
    "#         if i >= M-1:\n",
    "#             return t[i] <= x\n",
    "#         else:\n",
    "#             return (t[i] <= x) & ( x < t[i+1])\n",
    "    \n",
    "#     if t[i+k] == t[i]:\n",
    "#         c1 = 0\n",
    "#     else:\n",
    "#         c1 = Bx(x,k-1,i,t) * (x-t[i])/(t[i+k] - t[i]) \n",
    "\n",
    "#     if t[i+k+1] == t[i+1]:\n",
    "#         c2 = 0\n",
    "#     else:\n",
    "#         c2 = Bx(x,k-1,i+1,t) * (t[i+k+1] - x)/(t[i+k+1] - t[i+1])\n",
    "\n",
    "#     return c1 + c2"
   ]
  },
  {
   "cell_type": "code",
   "execution_count": 15,
   "metadata": {},
   "outputs": [
    {
     "name": "stdout",
     "output_type": "stream",
     "text": [
      "it 1\n",
      "Computing normalization constants...  evaluating..\n",
      "  prob mass : 1.009825803997224\n",
      "  -0.004932151176989424 + -0.006124303355376458 - -1.6182742630481766 = 1.6072178085158106\n",
      "it 2\n",
      "Computing normalization constants...  evaluating..\n",
      "  prob mass : 1.014303114752348\n",
      "  -0.009397186911855909 + -0.007594446606145116 - -1.6226663204794234 = 1.6056746869614225\n",
      "it 3\n",
      "Computing normalization constants...  evaluating..\n",
      "  prob mass : 1.0231554862642724\n",
      "  -0.006220155334648412 + -0.014221860769986713 - -1.6007924973353727 = 1.5803504812307376\n",
      "it 4\n",
      "Computing normalization constants...  evaluating..\n",
      "  prob mass : 1.0164571834980065\n",
      "  -0.004246535750834486 + -0.018029387326678966 - -1.5738255339424576 = 1.5515496108649443\n",
      "it 5\n",
      "Computing normalization constants...  evaluating..\n",
      "  prob mass : 1.0104744788112396\n",
      "  -0.004152403023740322 + -0.004438604096678398 - -1.6194435110495402 = 1.6108525039291215\n",
      "it 6\n",
      "Computing normalization constants...  evaluating..\n",
      "  prob mass : 1.0097523240890962\n",
      "  -0.004652501446263205 + -0.005319248483016256 - -1.6021859277380446 = 1.592214177808765\n",
      "it 7\n",
      "Computing normalization constants...  evaluating..\n",
      "  prob mass : 1.0243572582114404\n",
      "  -0.01110595125287295 + -0.00877911734427448 - -1.6684403282984492 = 1.6485552597013018\n",
      "it 8\n",
      "Computing normalization constants...  evaluating..\n",
      "  prob mass : 1.0141649986205699\n",
      "  -0.004261463574225806 + -0.005134346281272912 - -1.6803417046683105 = 1.6709458948128117\n",
      "it 9\n",
      "Computing normalization constants...  evaluating..\n",
      "  prob mass : 1.0206664004915398\n",
      "  -0.008660307867194248 + -0.015658818981535167 - -1.6626532052077456 = 1.6383340783590161\n",
      "it 10\n",
      "Computing normalization constants...  evaluating..\n",
      "  prob mass : 1.0299594923422994\n",
      "  -0.013911166429280253 + -0.015831724851784575 - -1.6409365170367898 = 1.611193625755725\n",
      "rho 0.99 results\n",
      "  1.6116888127939657\n",
      "  0.0010615687107130179\n"
     ]
    }
   ],
   "source": [
    "rho_list = [0.1, 0.3, 0.4, 0.6, 0.9, 0.99]\n",
    "rho_list = [ 0.99]\n",
    "# n_mesh_list = range(1,40,4)\n",
    "\n",
    "# p = 3\n",
    "\n",
    "\n",
    "# mesh to evaluate kernel on\n",
    "x_lin = np.linspace(0,1,501) #; x_lin = (x_lin[1:] + x_lin[:-1]) / 2\n",
    "y_lin = np.linspace(0,1,501) #; y_lin = (y_lin[1:] + y_lin[:-1]) / 2\n",
    "xx, yy = np.meshgrid(x_lin, y_lin)\n",
    "\n",
    "\n",
    "Trapz_weights_2d = np.array([[1] + [2 for i in range(xx.shape[1]-2)] + [1]] + \n",
    "                             [[2] + [4 for i in range(xx.shape[1]-2)] + [2] for j in range(xx.shape[0] - 2)] + \n",
    "                             [[1] + [2 for i in range(xx.shape[1]-2)] + [1]] )\n",
    "\n",
    "Trapez_weights_1d_x = np.array([1] + [2 for i in range(xx.shape[0] - 2)] + [1])\n",
    "\n",
    "Trapez_weights_1d_y = np.array([1] + [2 for i in range(xx.shape[1] - 2)] + [1])\n",
    "\n",
    "for idx_rho, rho in enumerate(rho_list):\n",
    "    # if idx_rho < 4:\n",
    "    #     continue\n",
    "\n",
    "    I_true = -0.5*np.log(1-rho**2)\n",
    "\n",
    "    R = np.array([[1,rho],[rho,1]])\n",
    "\n",
    "    res = np.full(10, np.nan)\n",
    "    for j in range(res.__len__()):\n",
    "        print(f\"it {j+1}\")\n",
    "        sim = scipy.stats.multivariate_normal.rvs(mean = np.zeros(2), cov = R, size = 400)\n",
    "\n",
    "        # x, y = sim[:,0], sim[:,1]\n",
    "\n",
    "        kernels = [gaussian_kde(sim[:,i]) for i in range(2)]\n",
    "\n",
    "        x = np.array([kernels[0].integrate_box_1d(-np.inf, y_i) for y_i in sim[:,0]])\n",
    "        y = np.array([kernels[0].integrate_box_1d(-np.inf, y_i) for y_i in sim[:,1]])\n",
    "\n",
    "        kern_centers = np.vstack([x,y])\n",
    "\n",
    "        kern_nn = KernelJones2D_nonnegative_version_Jonas(\n",
    "            kern_centers,\n",
    "            proper = False,\n",
    "            h = kern_centers.shape[1]**(-0.2) * kern_centers.var(axis = 1)**0.5 * 0.3\n",
    "        )\n",
    "\n",
    "        # evaluate KDE\n",
    "        print(\"  evaluating..\")\n",
    "        res_nn = kern_nn(np.array([xx.flatten(), yy.flatten()]))\n",
    "        print(f\"  prob mass : {res_nn.mean()}\")\n",
    "        \n",
    "        c_new = res_nn.mean()\n",
    "        z_nn = res_nn.copy() / c_new\n",
    "        z_nn = np.reshape(z_nn, xx.shape)\n",
    "\n",
    "        \n",
    "        c_xy = (z_nn * Trapz_weights_2d).sum() / 4 / np.prod([xx.shape[0] - 1 , xx.shape[1] - 1])\n",
    "        Hxy = - (z_nn * np.log(z_nn) * Trapz_weights_2d).sum() / 4 / np.prod([xx.shape[0] - 1 , xx.shape[1] - 1])\n",
    "\n",
    "        \n",
    "        c_x = (z_nn.mean(axis = 1) * Trapez_weights_1d_x).sum() / 2 / (xx.shape[0]-1)\n",
    "        Hx = - (z_nn.mean(axis = 1) * np.log(z_nn.mean(axis = 1)) * Trapez_weights_1d_x).sum() / 2 / (xx.shape[0]-1)\n",
    "\n",
    "        \n",
    "        c_y = (z_nn.mean(axis = 0) * Trapez_weights_1d_y).sum() / 2 / (xx.shape[1] - 1)\n",
    "        Hy = - (z_nn.mean(axis = 0) * np.log(z_nn.mean(axis = 0)) * Trapez_weights_1d_y).sum() / 2 / (xx.shape[1] - 1)\n",
    "\n",
    "        # correct for weights\n",
    "        Hx = (Hx - np.log(c_x)) / c_x\n",
    "        Hy = (Hy - np.log(c_y)) / c_y\n",
    "        Hxy = (Hxy - np.log(c_xy)) / c_xy\n",
    "\n",
    "        print(f\"  {Hx} + {Hy} - {Hxy} = {Hx + Hy - Hxy}\")\n",
    "        res[j] = Hx + Hy - Hxy\n",
    "\n",
    "    print(f\"rho {rho} results\")\n",
    "    print(f\"  {res.mean()}\")\n",
    "    print(f\"  {res.var()}\")\n",
    "\n",
    "    \n",
    "\n",
    "    # res_list = np.full(n_mesh_list.__len__(), np.nan)\n",
    "\n",
    "    # for idx, n_mesh in tqdm(enumerate(n_mesh_list)):\n",
    "\n",
    "    #     x, y = sim[:,0], sim[:,1]\n",
    "\n",
    "    #     M = n_mesh - 1\n",
    "    #     t = knots(p,M)\n",
    "\n",
    "    #     # px\n",
    "    #     z_transformer_x = z_from_x(x,M,p)\n",
    "    #     px_kernel = np.vstack([Bx(z_transformer_x(x),p,i,t) for i in range(-1,M)])\n",
    "    #     px = px_kernel.mean(axis = 1)\n",
    "    #     px_nonnull = px[px > 0]\n",
    "\n",
    "    #     # Py\n",
    "    #     z_transformer_y = z_from_x(y,M,p)\n",
    "    #     py_kernel = np.vstack([Bx(z_transformer_y(y),p,i,t) for i in range(-1,M)])\n",
    "    #     py = py_kernel.mean(axis = 1)\n",
    "    #     py_nonnull = py[py > 0]\n",
    "\n",
    "\n",
    "    #     # Pxy\n",
    "    #     # pxy_kernel = py_kernel[:,None,:] * px_kernel[None,:,:]\n",
    "    #     # pxy = (pxy_kernel).mean(axis = 2)\n",
    "    #     pxy = py_kernel @ px_kernel.T / py_kernel.shape[1]\n",
    "    #     pxy_nonnull = pxy[pxy > 0]\n",
    "\n",
    "        \n",
    "    #     # print(f\"xy: {(pxy_nonnull * np.log(pxy_nonnull)).sum()}\")\n",
    "    #     # print( (pxy_nonnull * np.log(pxy_nonnull)).sum() - (px_nonnull*np.log(px_nonnull)).sum() - (py_nonnull * np.log(py_nonnull)).sum() )\n",
    "\n",
    "    #     res_list[idx] = (pxy_nonnull * np.log(pxy_nonnull)).sum() - (px_nonnull*np.log(px_nonnull)).sum() - (py_nonnull * np.log(py_nonnull)).sum()\n",
    "\n",
    "    #     # hist = np.histogram2d(sim[:,0], sim[:,1], bins = (n_mesh,n_mesh), density=False)\n",
    "\n",
    "    #     # densities = hist[0] / sim.shape[0] + 1e-100\n",
    "    #     # Deltas = np.diff(hist[1]) * np.diff(hist[2])[:,None]\n",
    "    #     # f0 = densities.sum(axis = 0)\n",
    "    #     # f1 = densities.sum(axis = 1)\n",
    "    #     # d0 = np.diff(hist[1])\n",
    "    #     # d1 = np.diff(hist[2])\n",
    "\n",
    "    #     # # Using entropy to calculate MI\n",
    "    #     # res = (densities * np.nan_to_num(np.log(densities / Deltas))).sum() - (f0*np.log(f0 / d0)).sum() - (f1*np.log(f1/d1) ).sum()\n",
    "    #     # res_list[idx] = res\n",
    "\n",
    "\n",
    "    # plt.plot(n_mesh_list,res_list - I_true, label=r\"$\\rho$\" + f\" = {rho}\", marker = marker_list[idx_rho], color=\"black\", linewidth = 0.9)\n",
    "    # plt.axhline(y = -0.5*np.log(1-rho**2), color = \"r\")\n",
    "\n",
    "# plt.xlabel(\"N\")\n",
    "# # plt.ylabel(r\"$I_{estim}\\, /\\, I_{exact}$\")\n",
    "# plt.ylabel(r\"$I_{estim}\\, -\\, I_{exact}$\")\n",
    "# plt.legend();\n",
    "# plt.tight_layout()"
   ]
  },
  {
   "cell_type": "code",
   "execution_count": 16,
   "metadata": {},
   "outputs": [
    {
     "name": "stdout",
     "output_type": "stream",
     "text": [
      "0.08554933741523826\n",
      "Computing normalization constants...  evaluating..\n",
      "  prob mass : 1.013035785807755\n",
      "  -0.008688895121493085 + -0.007225650727283287 - -1.6509224143737304 = 1.635007868524954\n"
     ]
    }
   ],
   "source": [
    "rho = 0.99\n",
    "R = np.array([[1,rho],[rho,1]])\n",
    "sim = scipy.stats.multivariate_normal.rvs(mean = np.zeros(2), cov = R, size = 400)\n",
    "\n",
    "\n",
    "kernels = [gaussian_kde(sim[:,i]) for i in range(2)]\n",
    "\n",
    "x = np.array([kernels[0].integrate_box_1d(-np.inf, y_i) for y_i in sim[:,0]])\n",
    "y = np.array([kernels[0].integrate_box_1d(-np.inf, y_i) for y_i in sim[:,1]])\n",
    "\n",
    "kern_centers = np.vstack([x,y])\n",
    "\n",
    "print( kern_centers.shape[1]**(-1/5) * kern_centers.var()**0.5)\n",
    "\n",
    "kern_nn = KernelJones2D_nonnegative_version_Jonas(\n",
    "    kern_centers,\n",
    "    proper = False,\n",
    "    h = kern_centers.shape[1]**(-0.2) * kern_centers.var(axis = 1)**0.5 * 0.3\n",
    ")\n",
    "\n",
    "# evaluate KDE\n",
    "print(\"  evaluating..\")\n",
    "res_nn = kern_nn(np.array([xx.flatten(), yy.flatten()]))\n",
    "print(f\"  prob mass : {res_nn.mean()}\")\n",
    "\n",
    "c_new = res_nn.mean()\n",
    "z_nn = res_nn.copy() / c_new\n",
    "z_nn = np.reshape(z_nn, xx.shape)\n",
    "\n",
    "\n",
    "c_xy = (z_nn * Trapz_weights_2d).sum() / 4 / np.prod([xx.shape[0] - 1 , xx.shape[1] - 1])\n",
    "Hxy = - (z_nn * np.log(z_nn) * Trapz_weights_2d).sum() / 4 / np.prod([xx.shape[0] - 1 , xx.shape[1] - 1])\n",
    "\n",
    "\n",
    "c_x = (z_nn.mean(axis = 1) * Trapez_weights_1d_x).sum() / 2 / (xx.shape[0]-1)\n",
    "Hx = - (z_nn.mean(axis = 1) * np.log(z_nn.mean(axis = 1)) * Trapez_weights_1d_x).sum() / 2 / (xx.shape[0]-1)\n",
    "\n",
    "\n",
    "c_y = (z_nn.mean(axis = 0) * Trapez_weights_1d_y).sum() / 2 / (xx.shape[1] - 1)\n",
    "Hy = - (z_nn.mean(axis = 0) * np.log(z_nn.mean(axis = 0)) * Trapez_weights_1d_y).sum() / 2 / (xx.shape[1] - 1)\n",
    "\n",
    "# correct for weights\n",
    "Hx = (Hx - np.log(c_x)) / c_x\n",
    "Hy = (Hy - np.log(c_y)) / c_y\n",
    "Hxy = (Hxy - np.log(c_xy)) / c_xy\n",
    "\n",
    "print(f\"  {Hx} + {Hy} - {Hxy} = {Hx + Hy - Hxy}\")"
   ]
  },
  {
   "cell_type": "code",
   "execution_count": 19,
   "metadata": {},
   "outputs": [
    {
     "data": {
      "image/png": "[encoded data removed]",
      "text/plain": [
       "<Figure size 400x300 with 2 Axes>"
      ]
     },
     "metadata": {},
     "output_type": "display_data"
    },
    {
     "data": {
      "image/png": "[encoded data removed]",
      "text/plain": [
       "<Figure size 400x300 with 2 Axes>"
      ]
     },
     "metadata": {},
     "output_type": "display_data"
    },
    {
     "data": {
      "image/png": "[encoded data removed]",
      "text/plain": [
       "<Figure size 400x300 with 1 Axes>"
      ]
     },
     "metadata": {},
     "output_type": "display_data"
    }
   ],
   "source": [
    "\n",
    "\n",
    "gaus_copula = gen_gaus_c(rho)\n",
    "xx_c, yy_c = np.meshgrid(np.linspace(0+6e-4,1-6e-4,1500), np.linspace(0+0+6e-4,1-6e-4,1500))\n",
    "z_c = gaus_copula(xx_c,yy_c)\n",
    "\n",
    "\n",
    "levels_u = np.min([z_nn.max(), z_c.max(), 24])\n",
    "levels_u = ((levels_u // 2) // 1 + 1 ) * 2\n",
    "levels = np.linspace(0, levels_u, 21 )\n",
    "\n",
    "fig, ax = plt.subplots(1,1, figsize = (4,3))\n",
    "a = ax.contourf(xx, yy, z_nn, levels=levels)\n",
    "cbar = plt.colorbar(a)\n",
    "# ax.set_title(\"empirical copula\")\n",
    "ax.set_xlabel(r\"$u_1$\")\n",
    "ax.set_ylabel(r\"$u_2$\")\n",
    "fig.tight_layout()\n",
    "\n",
    "# plt.savefig(figures_path + \"MI estimation/regularized Jones - rho 0.99 - comparison of methods - 0.3 hscott.pdf\", bbox_inches='tight')\n",
    "# plt.savefig(figures_path + \"MI estimation/regularized Jones - rho 0.99 - comparison of methods - 0.3 hscott.png\", bbox_inches='tight')\n",
    "\n",
    "\n",
    "\n",
    "\n",
    "\n",
    "\n",
    "fig, ax = plt.subplots(1,1, figsize = (4,3))\n",
    "a = ax.contourf(xx_c, yy_c, z_c, levels=levels)\n",
    "plt.colorbar(a)\n",
    "plt.xlim([0,1])\n",
    "plt.ylim([0,1]);\n",
    "ax.set_xlabel(r\"$u_1$\")\n",
    "ax.set_ylabel(r\"$u_2$\")\n",
    "fig.tight_layout()\n",
    "# ax.set_title(\"theoretical copula\");\n",
    "\n",
    "# plt.savefig(figures_path + \"MI estimation/theoretical gaussian copula - rho 0.99 - comparison of methods - 0.3 hscott.pdf\", bbox_inches='tight')\n",
    "# plt.savefig(figures_path + \"MI estimation/theoretical gaussian copula - rho 0.99 - comparison of methods - 0.3 hscott.png\", bbox_inches='tight')\n",
    "\n",
    "\n",
    "\n",
    "res = z_c.mean(axis = 0)\n",
    "res = (res[1:] + res[:-1]) / 2\n",
    "fig,ax = plt.subplots(1,1, figsize = (4,3))\n",
    "ax.stairs(res, np.linspace(0,1,res.__len__() + 1), fill=True)\n",
    "# ax.vlines(np.linspace(0,1,res.__len__()+1), 0, res.max(), colors='w')\n",
    "ax.set_xlabel(\"t\")\n",
    "ax.set_ylabel(r\"$P_i$\")\n",
    "# ax.set_xticks(np.linspace(1,n_bins, n_bins) / n_bins - 1 / (2 * n_bins))\n",
    "# ax.set_xticklabels([i+1 for i in range(n_bins)])\n",
    "fig.tight_layout()\n",
    "\n",
    "\n",
    "# for small rho, much closer to uniform marginals than large rho. Might want to non-netivize and re-normalize each kernel"
   ]
  },
  {
   "cell_type": "markdown",
   "metadata": {},
   "source": [
    "# other"
   ]
  },
  {
   "cell_type": "code",
   "execution_count": 6,
   "metadata": {},
   "outputs": [
    {
     "data": {
      "text/plain": [
       "array([1.05045568, 1.03697759])"
      ]
     },
     "execution_count": 6,
     "metadata": {},
     "output_type": "execute_result"
    }
   ],
   "source": [
    "rho = 0.99\n",
    "data = scipy.stats.multivariate_normal.rvs(mean = None, cov = np.array([[1,rho],[rho,1]]), size = 300)\n",
    "\n",
    "data.var(axis = 0)"
   ]
  },
  {
   "cell_type": "code",
   "execution_count": 35,
   "metadata": {},
   "outputs": [],
   "source": [
    "X = data[:,0]\n",
    "Y = data[:,1]\n",
    "\n",
    "\n",
    "X = scipy.stats.ecdf(X).cdf.evaluate(X) - 1 / 2 / X.__len__()       # Correct such that equally dist at top and buttom\n",
    "Y = scipy.stats.ecdf(Y).cdf.evaluate(Y) - 1 / 2 / X.__len__()"
   ]
  },
  {
   "cell_type": "code",
   "execution_count": 36,
   "metadata": {},
   "outputs": [
    {
     "data": {
      "image/png": "[encoded data removed]",
      "text/plain": [
       "<Figure size 700x300 with 2 Axes>"
      ]
     },
     "metadata": {},
     "output_type": "display_data"
    }
   ],
   "source": [
    "fig, ax = plt.subplots(1,2, figsize = (7,3))\n",
    "ax[0].scatter(X,Y, s = 1)\n",
    "ax[1].hist2d(X,Y, 25);"
   ]
  },
  {
   "cell_type": "code",
   "execution_count": 37,
   "metadata": {},
   "outputs": [],
   "source": [
    "kern_centers = np.vstack([X,Y])"
   ]
  },
  {
   "cell_type": "code",
   "execution_count": 38,
   "metadata": {},
   "outputs": [
    {
     "name": "stdout",
     "output_type": "stream",
     "text": [
      "[0.09225347 0.09225347]\n"
     ]
    }
   ],
   "source": [
    "# h = np.hstack([kde(kern_centers[i,:], MIN = 0, MAX = 1)[0] for i in range(2)])\n",
    "h = kern_centers.shape[1]**(-1/5) * kern_centers.var(axis = 1)**0.5\n",
    "print(h)"
   ]
  },
  {
   "cell_type": "code",
   "execution_count": 39,
   "metadata": {},
   "outputs": [
    {
     "name": "stdout",
     "output_type": "stream",
     "text": [
      "Computing normalization constants..."
     ]
    }
   ],
   "source": [
    "# Generate kernel (takes some time to compute normalization constant -> checked later that sum is approx 1)\n",
    "# kern_nn = KernelJones2D_nonnegative(np.vstack([X,Y]))\n",
    "kern_nn = KernelJones2D_nonnegative_version_Jonas(\n",
    "    kern_centers,\n",
    "    h\n",
    ")"
   ]
  },
  {
   "cell_type": "code",
   "execution_count": 40,
   "metadata": {},
   "outputs": [],
   "source": [
    "# Generate mesh to evaluate on\n",
    "x_lin = np.linspace(0,1,701) #; x_lin = (x_lin[1:] + x_lin[:-1]) / 2\n",
    "y_lin = np.linspace(0,1,701) #; y_lin = (y_lin[1:] + y_lin[:-1]) / 2\n",
    "xx, yy = np.meshgrid(x_lin, y_lin)"
   ]
  },
  {
   "cell_type": "code",
   "execution_count": 41,
   "metadata": {},
   "outputs": [
    {
     "name": "stdout",
     "output_type": "stream",
     "text": [
      "prob mass : 1.0168680578595126\n"
     ]
    }
   ],
   "source": [
    "res_nn = kern_nn(np.array([xx.flatten(), yy.flatten()]))\n",
    "print(f\"prob mass : {res_nn.mean()}\")"
   ]
  },
  {
   "cell_type": "code",
   "execution_count": 42,
   "metadata": {},
   "outputs": [],
   "source": [
    "c_new = res_nn.mean()"
   ]
  },
  {
   "cell_type": "code",
   "execution_count": 43,
   "metadata": {},
   "outputs": [
    {
     "data": {
      "image/png": "[encoded data removed]",
      "text/plain": [
       "<Figure size 400x300 with 2 Axes>"
      ]
     },
     "metadata": {},
     "output_type": "display_data"
    },
    {
     "data": {
      "image/png": "[encoded data removed]",
      "text/plain": [
       "<Figure size 400x300 with 2 Axes>"
      ]
     },
     "metadata": {},
     "output_type": "display_data"
    },
    {
     "data": {
      "image/png": "[encoded data removed]",
      "text/plain": [
       "<Figure size 400x300 with 1 Axes>"
      ]
     },
     "metadata": {},
     "output_type": "display_data"
    }
   ],
   "source": [
    "z_nn = res_nn.copy() / c_new\n",
    "z_nn = np.reshape(z_nn, xx.shape)\n",
    "\n",
    "gaus_copula = gen_gaus_c(rho)\n",
    "xx_c, yy_c = np.meshgrid(np.linspace(0+6e-4,1-6e-4,1500), np.linspace(0+0+6e-4,1-6e-4,1500))\n",
    "z_c = gaus_copula(xx_c,yy_c)\n",
    "\n",
    "\n",
    "levels_u = np.min([z_nn.max(), z_c.max(), 24])\n",
    "levels_u = ((levels_u // 2) // 1 + 1 ) * 2\n",
    "levels = np.linspace(0, levels_u, 21 )\n",
    "\n",
    "fig, ax = plt.subplots(1,1, figsize = (4,3))\n",
    "a = ax.contourf(xx, yy, z_nn, levels=levels)\n",
    "cbar = plt.colorbar(a)\n",
    "# ax.set_title(\"empirical copula\")\n",
    "ax.set_xlabel(r\"$u_1$\")\n",
    "ax.set_ylabel(r\"$u_2$\")\n",
    "fig.tight_layout()\n",
    "\n",
    "# plt.savefig(figures_path + \"MI estimation/regularized Jones - rho 0.5.pdf\", bbox_inches='tight')\n",
    "# plt.savefig(figures_path + \"MI estimation/regularized Jones - rho 0.5.png\", bbox_inches='tight')\n",
    "\n",
    "\n",
    "\n",
    "\n",
    "\n",
    "\n",
    "fig, ax = plt.subplots(1,1, figsize = (4,3))\n",
    "a = ax.contourf(xx_c, yy_c, z_c, levels=levels)\n",
    "plt.colorbar(a)\n",
    "plt.xlim([0,1])\n",
    "plt.ylim([0,1]);\n",
    "ax.set_xlabel(r\"$u_1$\")\n",
    "ax.set_ylabel(r\"$u_2$\")\n",
    "fig.tight_layout()\n",
    "# ax.set_title(\"theoretical copula\");\n",
    "\n",
    "# plt.savefig(figures_path + \"MI estimation/theoretical gaussian copula - rho 0.9.pdf\", bbox_inches='tight')\n",
    "# plt.savefig(figures_path + \"MI estimation/theoretical gaussian copula - rho 0.9.png\", bbox_inches='tight')\n",
    "\n",
    "\n",
    "\n",
    "res = z_c.mean(axis = 0)\n",
    "res = (res[1:] + res[:-1]) / 2\n",
    "fig,ax = plt.subplots(1,1, figsize = (4,3))\n",
    "ax.stairs(res, np.linspace(0,1,res.__len__() + 1), fill=True)\n",
    "# ax.vlines(np.linspace(0,1,res.__len__()+1), 0, res.max(), colors='w')\n",
    "ax.set_xlabel(\"t\")\n",
    "ax.set_ylabel(r\"$P_i$\")\n",
    "# ax.set_xticks(np.linspace(1,n_bins, n_bins) / n_bins - 1 / (2 * n_bins))\n",
    "# ax.set_xticklabels([i+1 for i in range(n_bins)])\n",
    "fig.tight_layout()\n",
    "\n",
    "\n",
    "# for small rho, much closer to uniform marginals than large rho. Might want to non-netivize and re-normalize each kernel"
   ]
  },
  {
   "cell_type": "code",
   "execution_count": 44,
   "metadata": {},
   "outputs": [
    {
     "name": "stdout",
     "output_type": "stream",
     "text": [
      "-0.00017605077900384564 + -0.00018886321108841004 - -0.11878189843399448 = 0.11841698444390222\n",
      "-0.00017509657768744068 + -0.00018747318660097289 - -0.11877729244870555 = 0.11841472268441713\n",
      "theoretical MI : 0.14384103622589045\n"
     ]
    }
   ],
   "source": [
    "# raw\n",
    "# Hxy = - (z_nn  * np.log(z_nn)).mean()\n",
    "# Hx  = - (z_nn.mean(axis = 0) * np.log(z_nn.mean(axis = 0))).mean()\n",
    "# Hy  = - (z_nn.mean(axis = 1) * np.log(z_nn.mean(axis = 1))).mean()\n",
    "# print(f\"{Hx} + {Hy} - {Hxy} = {Hx + Hy - Hxy}\")\n",
    "\n",
    "\n",
    "\n",
    "# Trapez est.\n",
    "Trapz_weights_2d = np.array([[1] + [2 for i in range(z_nn.shape[1]-2)] + [1]] + \n",
    "                             [[2] + [4 for i in range(z_nn.shape[1]-2)] + [2] for j in range(z_nn.shape[0] - 2)] + \n",
    "                             [[1] + [2 for i in range(z_nn.shape[1]-2)] + [1]] )\n",
    "c_xy = (z_nn * Trapz_weights_2d).sum() / 4 / np.prod([z_nn.shape[0] - 1 , z_nn.shape[1] - 1])\n",
    "Hxy = - (z_nn * np.log(z_nn) * Trapz_weights_2d).sum() / 4 / np.prod([z_nn.shape[0] - 1 , z_nn.shape[1] - 1])\n",
    "\n",
    "Trapez_weights_1d = np.array([1] + [2 for i in range(z_nn.shape[0] - 2)] + [1])\n",
    "c_x = (z_nn.mean(axis = 1) * Trapez_weights_1d).sum() / 2 / (z_nn.shape[0]-1)\n",
    "Hx = - (z_nn.mean(axis = 1) * np.log(z_nn.mean(axis = 1)) * Trapez_weights_1d).sum() / 2 / (z_nn.shape[0]-1)\n",
    "\n",
    "Trapez_weights_1d = np.array([1] + [2 for i in range(z_nn.shape[1] - 2)] + [1])\n",
    "c_y = (z_nn.mean(axis = 0) * Trapez_weights_1d).sum() / 2 / (z_nn.shape[1] - 1)\n",
    "Hy = - (z_nn.mean(axis = 0) * np.log(z_nn.mean(axis = 0)) * Trapez_weights_1d).sum() / 2 / (z_nn.shape[1] - 1)\n",
    "\n",
    "# correct for weights\n",
    "Hx = (Hx - np.log(c_x)) / c_x\n",
    "Hy = (Hy - np.log(c_y)) / c_y\n",
    "Hxy = (Hxy - np.log(c_xy)) / c_xy\n",
    "\n",
    "print(f\"{Hx} + {Hy} - {Hxy} = {Hx + Hy - Hxy}\")\n",
    "\n",
    "\n",
    "\n",
    "\n",
    "# Simpson set.\n",
    "Simpsonweights_2d = np.array([[1] + [2* ((i+1)%2) + 2 for i in range(z_nn.shape[1]-2)] + [1]] + \n",
    "                             [[2 * ((j+1)%2) + 2] + [(2* ((i+1)%2) + 2) * (2 * ((j+1)%2) + 2) for i in range(z_nn.shape[1]-2)] + [2 * ((j+1)%2) + 2] for j in range(z_nn.shape[0]-2)] + \n",
    "                             [[1] + [2* ((i+1)%2) + 2 for i in range(z_nn.shape[1]-2)] + [1]] )\n",
    "c_xy = (z_nn * Simpsonweights_2d).sum() / 9 / np.prod([z_nn.shape[0] - 1 , z_nn.shape[1] - 1])\n",
    "Hxy = - (z_nn * np.log(z_nn) * Simpsonweights_2d).sum() / 9 / np.prod([z_nn.shape[0] - 1 , z_nn.shape[1] - 1])\n",
    "\n",
    "Simpsonweights_1d = np.array([1] + [2* ((i+1)%2) + 2 for i in range(z_nn.shape[0] - 2)] + [1])\n",
    "c_x = (z_nn.mean(axis = 1) * Simpsonweights_1d).sum() / 3 / (z_nn.shape[0]-1)\n",
    "Hx = - (z_nn.mean(axis = 1) * np.log(z_nn.mean(axis = 1)) * Simpsonweights_1d).sum() / 3 / (z_nn.shape[0]-1)\n",
    "\n",
    "Simpsonweights_1d = np.array([1] + [2* ((i+1)%2) + 2 for i in range(z_nn.shape[1] - 2)] + [1])\n",
    "c_y = (z_nn.mean(axis = 0) * Simpsonweights_1d).sum() / 3 / (z_nn.shape[1] - 1)\n",
    "Hy = - (z_nn.mean(axis = 0) * np.log(z_nn.mean(axis = 0)) * Simpsonweights_1d).sum() / 3 / (z_nn.shape[1]-1)\n",
    "\n",
    "# correct for weights\n",
    "Hx = (Hx - np.log(c_x)) / c_x\n",
    "Hy = (Hy - np.log(c_y)) / c_y\n",
    "Hxy = (Hxy - np.log(c_xy)) / c_xy\n",
    "\n",
    "print(f\"{Hx} + {Hy} - {Hxy} = {Hx + Hy - Hxy}\")\n",
    "\n",
    "\n",
    "\n",
    "\n",
    "print(f\"theoretical MI : {-0.5 * np.log( 1 - rho**2)}\")\n",
    "\n",
    "\n",
    "# rho = 0.95 - true MI = 1.1639514504891677 - using 700x700 grid - probability mass is not 1 anymore - correcting for extra mass around 21 - 24\n",
    "# runs:\n",
    "    # 72.93643097088923\n",
    "    # 47.373618075280035\n",
    "    # 58.424153422937415\n",
    "# increasing the number density of mesh seems to get more accurate results but still not close\n",
    "\n",
    "\n",
    "\n",
    "\n",
    "\n",
    "# rho = 0.9 - true MI = 0.8303656034108255 - using 500x500 grid\n",
    "# runs:\n",
    "    # 0.771305692312177\n",
    "    # 0.7160725163449495\n",
    "    # 0.7015484781230266\n",
    "    # 0.7586075238740865\n",
    "    # 0.7514862622065581\n",
    "    # 0.6293326115112262\n",
    "    # 0.6762494918225319\n",
    "\n",
    "# rho = 0.9 - true MI = 0.8303656034108255 - using 700x700 grid\n",
    "# runs:\n",
    "    # 0.6953513129241953\n",
    "    # 1.0449855468953293\n",
    "    # 0.6864321660179645\n",
    "    # 0.9863725725648258\n",
    "    # \n",
    "\n",
    "\n",
    "\n",
    "\n",
    "\n",
    "# rho = 0.5 - true MI = 0.14384103622589045 - using 700x700grid\n",
    "# runs using wrong formula :((:\n",
    "    # 0.16759313090746544\n",
    "    # 0.13303523637042428\n",
    "    # 0.15237370288786833\n",
    "    # 0.1639709402127958\n",
    "    # 0.21079069407706263\n",
    "    # 0.1718386132601093\n",
    "    # 0.228978809221221\n",
    "# runs using the correct formula :(\n",
    "    # 0.17701221853502314\n",
    "    # 0.17947677141701932\n",
    "    # 0.14395840549990835\n",
    "    # 0.12253432656735835\n",
    "    # 0.15624692951574992\n",
    "    # 0.14836583766741554\n",
    "    # 0.13452058261687702\n",
    "    # 0.13787030661529773\n",
    "    # 0.1562510723508732\n",
    "    # 0.15381115644310786\n",
    "    # 0.1717448720720293\n",
    "# runs using center points instead of edges: (want less than theoretical)\n",
    "    # 0.154019880485063\n",
    "    # 0.18973397258966954\n",
    "    # 0.19830792949351805\n",
    "    # 0.2071606312323414\n",
    "    # 0.1690216336754641\n",
    "    # 0.1262147630773271\n",
    "    # 0.18244154238367982\n",
    "    # 0.1284536651794335\n",
    "    # 0.17385746452999024\n",
    "\n"
   ]
  },
  {
   "cell_type": "code",
   "execution_count": 45,
   "metadata": {},
   "outputs": [
    {
     "data": {
      "image/png": "[encoded data removed]",
      "text/plain": [
       "<Figure size 400x300 with 1 Axes>"
      ]
     },
     "metadata": {},
     "output_type": "display_data"
    },
    {
     "data": {
      "image/png": "[encoded data removed]",
      "text/plain": [
       "<Figure size 400x300 with 1 Axes>"
      ]
     },
     "metadata": {},
     "output_type": "display_data"
    }
   ],
   "source": [
    "# u_0\n",
    "marginal_1 = z_nn.mean(axis = 1)\n",
    "marginal_1_centers = (marginal_1[1:] + marginal_1[:-1]) / 2\n",
    "\n",
    "fig,ax = plt.subplots(1,1, figsize = (4,3))\n",
    "ax.stairs(marginal_1_centers, np.linspace(0,1,marginal_1_centers.__len__() + 1), fill=True)\n",
    "ax.set_xlabel(\"t\")\n",
    "ax.set_ylabel(r\"$f_i$\")\n",
    "fig.tight_layout()\n",
    "\n",
    "# plt.savefig(figures_path + \"MI estimation/Bad MI estimate var 1 - corrected method - k = 1\", bbox_inches='tight')\n",
    "\n",
    "\n",
    "\n",
    "# u_1\n",
    "marginal_2 = z_nn.mean(axis = 1)\n",
    "marginal_2_centers = (marginal_2[1:] + marginal_2[:-1]) / 2\n",
    "\n",
    "fig,ax = plt.subplots(1,1, figsize = (4,3))\n",
    "ax.stairs(marginal_2_centers, np.linspace(0,1,marginal_2_centers.__len__() + 1), fill=True)\n",
    "ax.set_xlabel(\"t\")\n",
    "ax.set_ylabel(r\"$f_i$\")\n",
    "fig.tight_layout()"
   ]
  },
  {
   "cell_type": "code",
   "execution_count": 46,
   "metadata": {},
   "outputs": [],
   "source": [
    "# correction for probability mass\n",
    "# print(f\"{Hx/c_new + Hy/c_new - Hxy/c_new  - 1/c_new * np.log(c_new)}\")"
   ]
  },
  {
   "cell_type": "code",
   "execution_count": 47,
   "metadata": {},
   "outputs": [],
   "source": [
    "# variance of each component is 1/12 (is uniform dist.)\n",
    "\n",
    "# grund til copula er hvis man senere vil bruge non-parametric network, så skal man bruge copula, så god est. af fordeling er vigtig\n",
    "\n",
    "# Problem er peaks for høje rho, som med samme h ikke bliver lige godt repræsenteret"
   ]
  },
  {
   "cell_type": "code",
   "execution_count": 48,
   "metadata": {},
   "outputs": [],
   "source": [
    "\n",
    "\n",
    "# for small rho, much closer to uniform marginals than large rho. Might want to non-negativize and re-normalize each kernel"
   ]
  }
 ],
 "metadata": {
  "kernelspec": {
   "display_name": "MasterThesis",
   "language": "python",
   "name": "python3"
  },
  "language_info": {
   "codemirror_mode": {
    "name": "ipython",
    "version": 3
   },
   "file_extension": ".py",
   "mimetype": "text/x-python",
   "name": "python",
   "nbconvert_exporter": "python",
   "pygments_lexer": "ipython3",
   "version": "3.12.2"
  }
 },
 "nbformat": 4,
 "nbformat_minor": 2
}
